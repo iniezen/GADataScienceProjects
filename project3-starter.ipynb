{
 "cells": [
  {
   "cell_type": "markdown",
   "metadata": {},
   "source": [
    "# Project 3\n",
    "\n",
    "In this project, you will perform a logistic regression on the admissions data we've been working with in projects 1 and 2."
   ]
  },
  {
   "cell_type": "code",
   "execution_count": 233,
   "metadata": {
    "collapsed": true
   },
   "outputs": [],
   "source": [
    "%matplotlib inline\n",
    "import matplotlib.pyplot as plt\n",
    "import pandas as pd\n",
    "import statsmodels.api as sm\n",
    "import pylab as pl\n",
    "import numpy as np\n"
   ]
  },
  {
   "cell_type": "code",
   "execution_count": 98,
   "metadata": {},
   "outputs": [
    {
     "data": {
      "text/plain": [
       "'0.8.0'"
      ]
     },
     "execution_count": 98,
     "metadata": {},
     "output_type": "execute_result"
    }
   ],
   "source": []
  },
  {
   "cell_type": "code",
   "execution_count": 234,
   "metadata": {},
   "outputs": [
    {
     "name": "stdout",
     "output_type": "stream",
     "text": [
      "   admit    gre   gpa  prestige\n",
      "0      0  380.0  3.61       3.0\n",
      "1      1  660.0  3.67       3.0\n",
      "2      1  800.0  4.00       1.0\n",
      "3      1  640.0  3.19       4.0\n",
      "4      0  520.0  2.93       4.0\n"
     ]
    }
   ],
   "source": [
    "df_raw = pd.read_csv(\"../assets/admissions.csv\")\n",
    "df = df_raw.dropna() \n",
    "print (df.head())"
   ]
  },
  {
   "cell_type": "code",
   "execution_count": 235,
   "metadata": {},
   "outputs": [
    {
     "name": "stdout",
     "output_type": "stream",
     "text": [
      "            admit         gre         gpa    prestige\n",
      "count  397.000000  397.000000  397.000000  397.000000\n",
      "mean     0.317380  587.858942    3.392242    2.488665\n",
      "std      0.466044  115.717787    0.380208    0.947083\n",
      "min      0.000000  220.000000    2.260000    1.000000\n",
      "25%      0.000000  520.000000    3.130000    2.000000\n",
      "50%      0.000000  580.000000    3.400000    2.000000\n",
      "75%      1.000000  660.000000    3.670000    3.000000\n",
      "max      1.000000  800.000000    4.000000    4.000000\n"
     ]
    }
   ],
   "source": [
    "print(df.describe())"
   ]
  },
  {
   "cell_type": "markdown",
   "metadata": {},
   "source": [
    "## Part 1. Frequency Tables\n",
    "\n",
    "#### 1. Let's create a frequency table of our variables"
   ]
  },
  {
   "cell_type": "code",
   "execution_count": 236,
   "metadata": {},
   "outputs": [
    {
     "name": "stdout",
     "output_type": "stream",
     "text": [
      "prestige  1.0  2.0  3.0  4.0\n",
      "admit                       \n",
      "0          28   95   93   55\n",
      "1          33   53   28   12\n"
     ]
    }
   ],
   "source": [
    "# frequency table for prestige and whether or not someone was admitted\n",
    "\n",
    "print(pd.crosstab(df['admit'], df['prestige'], rownames = ['admit']))\n"
   ]
  },
  {
   "cell_type": "markdown",
   "metadata": {},
   "source": [
    "## Part 2. Return of dummy variables"
   ]
  },
  {
   "cell_type": "markdown",
   "metadata": {},
   "source": [
    "#### 2.1 Create class or dummy variables for prestige "
   ]
  },
  {
   "cell_type": "code",
   "execution_count": 237,
   "metadata": {},
   "outputs": [
    {
     "name": "stdout",
     "output_type": "stream",
     "text": [
      "   prestige_1.0  prestige_2.0  prestige_3.0  prestige_4.0\n",
      "0             0             0             1             0\n",
      "1             0             0             1             0\n",
      "2             1             0             0             0\n",
      "3             0             0             0             1\n",
      "4             0             0             0             1\n"
     ]
    }
   ],
   "source": [
    "dummy_ranks = pd.get_dummies(df['prestige'], prefix='prestige')\n",
    "print (dummy_ranks.head())"
   ]
  },
  {
   "cell_type": "markdown",
   "metadata": {},
   "source": [
    "#### 2.2 When modeling our class variables, how many do we need? \n",
    "\n"
   ]
  },
  {
   "cell_type": "markdown",
   "metadata": {},
   "source": [
    "Answer: 3"
   ]
  },
  {
   "cell_type": "markdown",
   "metadata": {},
   "source": [
    "## Part 3. Hand calculating odds ratios\n",
    "\n",
    "Develop your intuition about expected outcomes by hand calculating odds ratios."
   ]
  },
  {
   "cell_type": "code",
   "execution_count": 238,
   "metadata": {},
   "outputs": [
    {
     "name": "stdout",
     "output_type": "stream",
     "text": [
      "   admit    gre   gpa  prestige_1.0  prestige_2.0  prestige_3.0  prestige_4.0\n",
      "0      0  380.0  3.61             0             0             1             0\n",
      "1      1  660.0  3.67             0             0             1             0\n",
      "2      1  800.0  4.00             1             0             0             0\n",
      "3      1  640.0  3.19             0             0             0             1\n",
      "4      0  520.0  2.93             0             0             0             1\n"
     ]
    }
   ],
   "source": [
    "cols_to_keep = ['admit', 'gre', 'gpa']\n",
    "handCalc = df[cols_to_keep].join(dummy_ranks.loc[:, 'prestige_1':])\n",
    "print (handCalc.head())"
   ]
  },
  {
   "cell_type": "code",
   "execution_count": 239,
   "metadata": {},
   "outputs": [
    {
     "name": "stdout",
     "output_type": "stream",
     "text": [
      "prestige_1.0    0   1\n",
      "admit                \n",
      "0             243  28\n",
      "1              93  33\n"
     ]
    }
   ],
   "source": [
    "#crosstab prestige 1 admission \n",
    "# frequency table cutting prestige and whether or not someone was admitted\n",
    "print(pd.crosstab(handCalc['admit'], handCalc['prestige_1.0'] ))"
   ]
  },
  {
   "cell_type": "markdown",
   "metadata": {},
   "source": [
    "#### 3.1 Use the cross tab above to calculate the odds of being admitted to grad school if you attended a #1 ranked college"
   ]
  },
  {
   "cell_type": "code",
   "execution_count": 198,
   "metadata": {},
   "outputs": [
    {
     "data": {
      "text/plain": [
       "1.1785714285714286"
      ]
     },
     "execution_count": 198,
     "metadata": {},
     "output_type": "execute_result"
    }
   ],
   "source": [
    "33/28\n"
   ]
  },
  {
   "cell_type": "markdown",
   "metadata": {},
   "source": [
    "#### 3.2 Now calculate the odds of admission if you did not attend a #1 ranked college"
   ]
  },
  {
   "cell_type": "code",
   "execution_count": 199,
   "metadata": {},
   "outputs": [
    {
     "data": {
      "text/plain": [
       "0.38271604938271603"
      ]
     },
     "execution_count": 199,
     "metadata": {},
     "output_type": "execute_result"
    }
   ],
   "source": [
    "93/243"
   ]
  },
  {
   "cell_type": "markdown",
   "metadata": {},
   "source": [
    "#### 3.3 Calculate the odds ratio"
   ]
  },
  {
   "cell_type": "code",
   "execution_count": 200,
   "metadata": {},
   "outputs": [
    {
     "data": {
      "text/plain": [
       "3.079493087557604"
      ]
     },
     "execution_count": 200,
     "metadata": {},
     "output_type": "execute_result"
    }
   ],
   "source": [
    "(33/28)/(93/243)"
   ]
  },
  {
   "cell_type": "markdown",
   "metadata": {},
   "source": [
    "#### 3.4 Write this finding in a sentenance: "
   ]
  },
  {
   "cell_type": "markdown",
   "metadata": {},
   "source": [
    "Answer: Applicants from a prestige 1 university are over 3x (3.08x) more likely to be admmited to UCLA grad program than applicants from lesser ranked universities."
   ]
  },
  {
   "cell_type": "markdown",
   "metadata": {},
   "source": [
    "#### 3.5 Print the cross tab for prestige_4"
   ]
  },
  {
   "cell_type": "code",
   "execution_count": 240,
   "metadata": {},
   "outputs": [
    {
     "name": "stdout",
     "output_type": "stream",
     "text": [
      "prestige_4.0    0   1\n",
      "admit                \n",
      "0             216  55\n",
      "1             114  12\n"
     ]
    }
   ],
   "source": [
    "print(pd.crosstab(handCalc['admit'], handCalc['prestige_4.0']))\n"
   ]
  },
  {
   "cell_type": "markdown",
   "metadata": {},
   "source": [
    "#### 3.6 Calculate the OR "
   ]
  },
  {
   "cell_type": "code",
   "execution_count": 202,
   "metadata": {},
   "outputs": [
    {
     "data": {
      "text/plain": [
       "0.4133971291866028"
      ]
     },
     "execution_count": 202,
     "metadata": {},
     "output_type": "execute_result"
    }
   ],
   "source": [
    "(12/55)/(114/216)"
   ]
  },
  {
   "cell_type": "markdown",
   "metadata": {},
   "source": [
    "#### 3.7 Write this finding in a sentence"
   ]
  },
  {
   "cell_type": "markdown",
   "metadata": {},
   "source": [
    "Answer:Applicants from prestige 4 undergrad universities are only 41% as likely to be admitted to UCLA grad program as applicants from higher ranked universities."
   ]
  },
  {
   "cell_type": "markdown",
   "metadata": {},
   "source": [
    "## Part 4. Analysis"
   ]
  },
  {
   "cell_type": "code",
   "execution_count": 241,
   "metadata": {},
   "outputs": [
    {
     "name": "stdout",
     "output_type": "stream",
     "text": [
      "   admit    gre   gpa  prestige_2.0  prestige_3.0  prestige_4.0\n",
      "0      0  380.0  3.61             0             1             0\n",
      "1      1  660.0  3.67             0             1             0\n",
      "2      1  800.0  4.00             0             0             0\n",
      "3      1  640.0  3.19             0             0             1\n",
      "4      0  520.0  2.93             0             0             1\n"
     ]
    }
   ],
   "source": [
    "# create a clean data frame for the regression\n",
    "cols_to_keep = ['admit', 'gre', 'gpa']\n",
    "data = df[cols_to_keep].join(dummy_ranks.loc[:, 'prestige_2':])\n",
    "print (data.head())"
   ]
  },
  {
   "cell_type": "markdown",
   "metadata": {},
   "source": [
    "We're going to add a constant term for our Logistic Regression. The statsmodels function we're going to be using requires that intercepts/constants are specified explicitly."
   ]
  },
  {
   "cell_type": "code",
   "execution_count": 242,
   "metadata": {
    "collapsed": true
   },
   "outputs": [],
   "source": [
    "# manually add the intercept\n",
    "data['intercept'] = 1.0"
   ]
  },
  {
   "cell_type": "markdown",
   "metadata": {},
   "source": [
    "#### 4.1 Set the covariates to a variable called train_cols"
   ]
  },
  {
   "cell_type": "code",
   "execution_count": 243,
   "metadata": {
    "collapsed": true
   },
   "outputs": [],
   "source": [
    "train_cols = data.columns[1:]"
   ]
  },
  {
   "cell_type": "markdown",
   "metadata": {},
   "source": [
    "#### 4.2 Fit the model"
   ]
  },
  {
   "cell_type": "code",
   "execution_count": 244,
   "metadata": {},
   "outputs": [
    {
     "name": "stdout",
     "output_type": "stream",
     "text": [
      "Optimization terminated successfully.\n",
      "         Current function value: 0.573854\n",
      "         Iterations 6\n"
     ]
    }
   ],
   "source": [
    "logit = sm.Logit(data['admit'], data[train_cols])\n",
    "result = logit.fit()"
   ]
  },
  {
   "cell_type": "markdown",
   "metadata": {},
   "source": [
    "#### 4.3 Print the summary results"
   ]
  },
  {
   "cell_type": "code",
   "execution_count": 41,
   "metadata": {},
   "outputs": [
    {
     "name": "stdout",
     "output_type": "stream",
     "text": [
      "                           Logit Regression Results                           \n",
      "==============================================================================\n",
      "Dep. Variable:                  admit   No. Observations:                  397\n",
      "Model:                          Logit   Df Residuals:                      391\n",
      "Method:                           MLE   Df Model:                            5\n",
      "Date:                Fri, 01 Dec 2017   Pseudo R-squ.:                 0.08166\n",
      "Time:                        12:56:32   Log-Likelihood:                -227.82\n",
      "converged:                       True   LL-Null:                       -248.08\n",
      "                                        LLR p-value:                 1.176e-07\n",
      "================================================================================\n",
      "                   coef    std err          z      P>|z|      [0.025      0.975]\n",
      "--------------------------------------------------------------------------------\n",
      "gre              0.0022      0.001      2.028      0.043    7.44e-05       0.004\n",
      "gpa              0.7793      0.333      2.344      0.019       0.128       1.431\n",
      "prestige_2.0    -0.6801      0.317     -2.146      0.032      -1.301      -0.059\n",
      "prestige_3.0    -1.3387      0.345     -3.882      0.000      -2.015      -0.663\n",
      "prestige_4.0    -1.5534      0.417     -3.721      0.000      -2.372      -0.735\n",
      "intercept       -3.8769      1.142     -3.393      0.001      -6.116      -1.638\n",
      "================================================================================\n"
     ]
    }
   ],
   "source": [
    "print(result.summary())"
   ]
  },
  {
   "cell_type": "code",
   "execution_count": 207,
   "metadata": {},
   "outputs": [
    {
     "name": "stdout",
     "output_type": "stream",
     "text": [
      "                     0         1\n",
      "gre           0.000074  0.004362\n",
      "gpa           0.127619  1.431056\n",
      "prestige_2.0 -1.301337 -0.058936\n",
      "prestige_3.0 -2.014579 -0.662776\n",
      "prestige_4.0 -2.371624 -0.735197\n",
      "intercept    -6.116077 -1.637631\n"
     ]
    }
   ],
   "source": [
    "print(result.conf_int())"
   ]
  },
  {
   "cell_type": "markdown",
   "metadata": {},
   "source": [
    "#### 4.4 Calculate the odds ratios of the coeffiencents and their 95% CI intervals\n",
    "\n",
    "hint 1: np.exp(X)\n",
    "\n",
    "hint 2: conf['OR'] = params\n",
    "        \n",
    "           conf.columns = ['2.5%', '97.5%', 'OR']"
   ]
  },
  {
   "cell_type": "code",
   "execution_count": 245,
   "metadata": {},
   "outputs": [
    {
     "name": "stdout",
     "output_type": "stream",
     "text": [
      "gre             1.002221\n",
      "gpa             2.180027\n",
      "prestige_2.0    0.506548\n",
      "prestige_3.0    0.262192\n",
      "prestige_4.0    0.211525\n",
      "intercept       0.020716\n",
      "dtype: float64\n"
     ]
    }
   ],
   "source": [
    "print(np.exp(result.params))"
   ]
  },
  {
   "cell_type": "code",
   "execution_count": 246,
   "metadata": {
    "scrolled": true
   },
   "outputs": [
    {
     "name": "stdout",
     "output_type": "stream",
     "text": [
      "                  2.5%     97.5%        OR\n",
      "gre           1.000074  1.004372  1.002221\n",
      "gpa           1.136120  4.183113  2.180027\n",
      "prestige_2.0  0.272168  0.942767  0.506548\n",
      "prestige_3.0  0.133377  0.515419  0.262192\n",
      "prestige_4.0  0.093329  0.479411  0.211525\n",
      "intercept     0.002207  0.194440  0.020716\n"
     ]
    }
   ],
   "source": [
    "params = result.params\n",
    "conf = result.conf_int()\n",
    "\n",
    "conf['OR'] = params\n",
    "conf.columns = ['2.5%', '97.5%' , 'OR']\n",
    "print (np.exp(conf))                "
   ]
  },
  {
   "cell_type": "markdown",
   "metadata": {},
   "source": [
    "#### 4.5 Interpret the OR of Prestige_2"
   ]
  },
  {
   "cell_type": "markdown",
   "metadata": {},
   "source": [
    "Answer: Odds of being admitted decrease by about 50% if prestige of school is 2"
   ]
  },
  {
   "cell_type": "markdown",
   "metadata": {},
   "source": [
    "#### 4.6 Interpret the OR of GPA"
   ]
  },
  {
   "cell_type": "markdown",
   "metadata": {},
   "source": [
    "Answer: odds increase by more than double (2.18) for every additional point in GPA"
   ]
  },
  {
   "cell_type": "markdown",
   "metadata": {},
   "source": [
    "## Part 5: Predicted probablities\n"
   ]
  },
  {
   "cell_type": "markdown",
   "metadata": {},
   "source": [
    "As a way of evaluating our classifier, we're going to recreate the dataset with every logical combination of input values. This will allow us to see how the predicted probability of admission increases/decreases across different variables. First we're going to generate the combinations using a helper function called cartesian (above).\n",
    "\n",
    "We're going to use np.linspace to create a range of values for \"gre\" and \"gpa\". This creates a range of linearly spaced values from a specified min and maximum value--in our case just the min/max observed values."
   ]
  },
  {
   "cell_type": "code",
   "execution_count": 247,
   "metadata": {
    "collapsed": true
   },
   "outputs": [],
   "source": [
    "def cartesian(arrays, out=None):\n",
    "    \"\"\"\n",
    "    Generate a cartesian product of input arrays.\n",
    "    Parameters\n",
    "    ----------\n",
    "    arrays : list of array-like\n",
    "        1-D arrays to form the cartesian product of.\n",
    "    out : ndarray\n",
    "        Array to place the cartesian product in.\n",
    "    Returns\n",
    "    -------\n",
    "    out : ndarray\n",
    "        2-D array of shape (M, len(arrays)) containing cartesian products\n",
    "        formed of input arrays.\n",
    "    Examples\n",
    "    --------\n",
    "    >>> cartesian(([1, 2, 3], [4, 5], [6, 7]))\n",
    "    array([[1, 4, 6],\n",
    "           [1, 4, 7],\n",
    "           [1, 5, 6],\n",
    "           [1, 5, 7],\n",
    "           [2, 4, 6],\n",
    "           [2, 4, 7],\n",
    "           [2, 5, 6],\n",
    "           [2, 5, 7],\n",
    "           [3, 4, 6],\n",
    "           [3, 4, 7],\n",
    "           [3, 5, 6],\n",
    "           [3, 5, 7]])\n",
    "    \"\"\"\n",
    "\n",
    "    arrays = [np.asarray(x) for x in arrays]\n",
    "    dtype = arrays[0].dtype\n",
    "\n",
    "    n = np.prod([x.size for x in arrays])\n",
    "    if out is None:\n",
    "        out = np.zeros([n, len(arrays)], dtype=dtype)\n",
    "\n",
    "    m = n // arrays[0].size\n",
    "    out[:,0] = np.repeat(arrays[0], m)\n",
    "    if arrays[1:]:\n",
    "        cartesian(arrays[1:], out=out[0:m,1:])\n",
    "        for j in range(1, arrays[0].size):\n",
    "            out[j*m:(j+1)*m,1:] = out[0:m,1:]\n",
    "    return out\n"
   ]
  },
  {
   "cell_type": "raw",
   "metadata": {},
   "source": [
    "# instead of generating all possible values of GRE and GPA, we're going\n",
    "# to use an evenly spaced range of 10 values from the min to the max \n",
    "gres = np.linspace(data['gre'].min(), data['gre'].max(), 10)\n",
    "\n",
    "print (gres)\n",
    "# array([ 220.        ,  284.44444444,  348.88888889,  413.33333333,\n",
    "#         477.77777778,  542.22222222,  606.66666667,  671.11111111,\n",
    "#         735.55555556,  800.        ])\n",
    "gpas = np.linspace(data['gpa'].min(), data['gpa'].max(), 10)\n",
    "\n",
    "print (gpas)\n",
    "# array([ 2.26      ,  2.45333333,  2.64666667,  2.84      ,  3.03333333,\n",
    "#         3.22666667,  3.42      ,  3.61333333,  3.80666667,  4.        ])\n",
    "\n",
    "\n",
    "# enumerate all possibilities\n",
    "combos = pd.DataFrame(cartesian([gres, gpas, [1, 2, 3, 4], [1.]]))\n"
   ]
  },
  {
   "cell_type": "code",
   "execution_count": 252,
   "metadata": {},
   "outputs": [
    {
     "name": "stdout",
     "output_type": "stream",
     "text": [
      "[ 220.          284.44444444  348.88888889  413.33333333  477.77777778\n",
      "  542.22222222  606.66666667  671.11111111  735.55555556  800.        ]\n",
      "[ 2.26        2.45333333  2.64666667  2.84        3.03333333  3.22666667\n",
      "  3.42        3.61333333  3.80666667  4.        ]\n",
      "         0         1    2    3\n",
      "0    220.0  2.260000  1.0  1.0\n",
      "1    220.0  2.260000  2.0  1.0\n",
      "2    220.0  2.260000  3.0  1.0\n",
      "3    220.0  2.260000  4.0  1.0\n",
      "4    220.0  2.453333  1.0  1.0\n",
      "5    220.0  2.453333  2.0  1.0\n",
      "6    220.0  2.453333  3.0  1.0\n",
      "7    220.0  2.453333  4.0  1.0\n",
      "8    220.0  2.646667  1.0  1.0\n",
      "9    220.0  2.646667  2.0  1.0\n",
      "10   220.0  2.646667  3.0  1.0\n",
      "11   220.0  2.646667  4.0  1.0\n",
      "12   220.0  2.840000  1.0  1.0\n",
      "13   220.0  2.840000  2.0  1.0\n",
      "14   220.0  2.840000  3.0  1.0\n",
      "15   220.0  2.840000  4.0  1.0\n",
      "16   220.0  3.033333  1.0  1.0\n",
      "17   220.0  3.033333  2.0  1.0\n",
      "18   220.0  3.033333  3.0  1.0\n",
      "19   220.0  3.033333  4.0  1.0\n",
      "20   220.0  3.226667  1.0  1.0\n",
      "21   220.0  3.226667  2.0  1.0\n",
      "22   220.0  3.226667  3.0  1.0\n",
      "23   220.0  3.226667  4.0  1.0\n",
      "24   220.0  3.420000  1.0  1.0\n",
      "25   220.0  3.420000  2.0  1.0\n",
      "26   220.0  3.420000  3.0  1.0\n",
      "27   220.0  3.420000  4.0  1.0\n",
      "28   220.0  3.613333  1.0  1.0\n",
      "29   220.0  3.613333  2.0  1.0\n",
      "..     ...       ...  ...  ...\n",
      "370  800.0  2.646667  3.0  1.0\n",
      "371  800.0  2.646667  4.0  1.0\n",
      "372  800.0  2.840000  1.0  1.0\n",
      "373  800.0  2.840000  2.0  1.0\n",
      "374  800.0  2.840000  3.0  1.0\n",
      "375  800.0  2.840000  4.0  1.0\n",
      "376  800.0  3.033333  1.0  1.0\n",
      "377  800.0  3.033333  2.0  1.0\n",
      "378  800.0  3.033333  3.0  1.0\n",
      "379  800.0  3.033333  4.0  1.0\n",
      "380  800.0  3.226667  1.0  1.0\n",
      "381  800.0  3.226667  2.0  1.0\n",
      "382  800.0  3.226667  3.0  1.0\n",
      "383  800.0  3.226667  4.0  1.0\n",
      "384  800.0  3.420000  1.0  1.0\n",
      "385  800.0  3.420000  2.0  1.0\n",
      "386  800.0  3.420000  3.0  1.0\n",
      "387  800.0  3.420000  4.0  1.0\n",
      "388  800.0  3.613333  1.0  1.0\n",
      "389  800.0  3.613333  2.0  1.0\n",
      "390  800.0  3.613333  3.0  1.0\n",
      "391  800.0  3.613333  4.0  1.0\n",
      "392  800.0  3.806667  1.0  1.0\n",
      "393  800.0  3.806667  2.0  1.0\n",
      "394  800.0  3.806667  3.0  1.0\n",
      "395  800.0  3.806667  4.0  1.0\n",
      "396  800.0  4.000000  1.0  1.0\n",
      "397  800.0  4.000000  2.0  1.0\n",
      "398  800.0  4.000000  3.0  1.0\n",
      "399  800.0  4.000000  4.0  1.0\n",
      "\n",
      "[400 rows x 4 columns]\n"
     ]
    }
   ],
   "source": [
    "# instead of generating all possible values of GRE and GPA, we're going\n",
    "# to use an evenly spaced range of 10 values from the min to the max \n",
    "gres = np.linspace(data['gre'].min(), data['gre'].max(), 10)\n",
    "\n",
    "print (gres)\n",
    "# array([ 220.        ,  284.44444444,  348.88888889,  413.33333333,\n",
    "#         477.77777778,  542.22222222,  606.66666667,  671.11111111,\n",
    "#         735.55555556,  800.        ])\n",
    "gpas = np.linspace(data['gpa'].min(), data['gpa'].max(), 10)\n",
    "\n",
    "print (gpas)\n",
    "# array([ 2.26      ,  2.45333333,  2.64666667,  2.84      ,  3.03333333,\n",
    "#         3.22666667,  3.42      ,  3.61333333,  3.80666667,  4.        ])\n",
    "\n",
    "\n",
    "\n",
    "# enumerate all possibilities\n",
    "combos = pd.DataFrame(cartesian([gres, gpas, [1, 2, 3, 4], [1.]]))\n",
    "print (combos)"
   ]
  },
  {
   "cell_type": "markdown",
   "metadata": {},
   "source": [
    "#### 5.1 Recreate the dummy variables"
   ]
  },
  {
   "cell_type": "code",
   "execution_count": 253,
   "metadata": {},
   "outputs": [
    {
     "name": "stdout",
     "output_type": "stream",
     "text": [
      "       gre       gpa  prestige  intercept  prestige_2.0  prestige_3.0  \\\n",
      "0    220.0  2.260000       1.0        1.0             0             0   \n",
      "1    220.0  2.260000       2.0        1.0             1             0   \n",
      "2    220.0  2.260000       3.0        1.0             0             1   \n",
      "3    220.0  2.260000       4.0        1.0             0             0   \n",
      "4    220.0  2.453333       1.0        1.0             0             0   \n",
      "5    220.0  2.453333       2.0        1.0             1             0   \n",
      "6    220.0  2.453333       3.0        1.0             0             1   \n",
      "7    220.0  2.453333       4.0        1.0             0             0   \n",
      "8    220.0  2.646667       1.0        1.0             0             0   \n",
      "9    220.0  2.646667       2.0        1.0             1             0   \n",
      "10   220.0  2.646667       3.0        1.0             0             1   \n",
      "11   220.0  2.646667       4.0        1.0             0             0   \n",
      "12   220.0  2.840000       1.0        1.0             0             0   \n",
      "13   220.0  2.840000       2.0        1.0             1             0   \n",
      "14   220.0  2.840000       3.0        1.0             0             1   \n",
      "15   220.0  2.840000       4.0        1.0             0             0   \n",
      "16   220.0  3.033333       1.0        1.0             0             0   \n",
      "17   220.0  3.033333       2.0        1.0             1             0   \n",
      "18   220.0  3.033333       3.0        1.0             0             1   \n",
      "19   220.0  3.033333       4.0        1.0             0             0   \n",
      "20   220.0  3.226667       1.0        1.0             0             0   \n",
      "21   220.0  3.226667       2.0        1.0             1             0   \n",
      "22   220.0  3.226667       3.0        1.0             0             1   \n",
      "23   220.0  3.226667       4.0        1.0             0             0   \n",
      "24   220.0  3.420000       1.0        1.0             0             0   \n",
      "25   220.0  3.420000       2.0        1.0             1             0   \n",
      "26   220.0  3.420000       3.0        1.0             0             1   \n",
      "27   220.0  3.420000       4.0        1.0             0             0   \n",
      "28   220.0  3.613333       1.0        1.0             0             0   \n",
      "29   220.0  3.613333       2.0        1.0             1             0   \n",
      "..     ...       ...       ...        ...           ...           ...   \n",
      "370  800.0  2.646667       3.0        1.0             0             1   \n",
      "371  800.0  2.646667       4.0        1.0             0             0   \n",
      "372  800.0  2.840000       1.0        1.0             0             0   \n",
      "373  800.0  2.840000       2.0        1.0             1             0   \n",
      "374  800.0  2.840000       3.0        1.0             0             1   \n",
      "375  800.0  2.840000       4.0        1.0             0             0   \n",
      "376  800.0  3.033333       1.0        1.0             0             0   \n",
      "377  800.0  3.033333       2.0        1.0             1             0   \n",
      "378  800.0  3.033333       3.0        1.0             0             1   \n",
      "379  800.0  3.033333       4.0        1.0             0             0   \n",
      "380  800.0  3.226667       1.0        1.0             0             0   \n",
      "381  800.0  3.226667       2.0        1.0             1             0   \n",
      "382  800.0  3.226667       3.0        1.0             0             1   \n",
      "383  800.0  3.226667       4.0        1.0             0             0   \n",
      "384  800.0  3.420000       1.0        1.0             0             0   \n",
      "385  800.0  3.420000       2.0        1.0             1             0   \n",
      "386  800.0  3.420000       3.0        1.0             0             1   \n",
      "387  800.0  3.420000       4.0        1.0             0             0   \n",
      "388  800.0  3.613333       1.0        1.0             0             0   \n",
      "389  800.0  3.613333       2.0        1.0             1             0   \n",
      "390  800.0  3.613333       3.0        1.0             0             1   \n",
      "391  800.0  3.613333       4.0        1.0             0             0   \n",
      "392  800.0  3.806667       1.0        1.0             0             0   \n",
      "393  800.0  3.806667       2.0        1.0             1             0   \n",
      "394  800.0  3.806667       3.0        1.0             0             1   \n",
      "395  800.0  3.806667       4.0        1.0             0             0   \n",
      "396  800.0  4.000000       1.0        1.0             0             0   \n",
      "397  800.0  4.000000       2.0        1.0             1             0   \n",
      "398  800.0  4.000000       3.0        1.0             0             1   \n",
      "399  800.0  4.000000       4.0        1.0             0             0   \n",
      "\n",
      "     prestige_4.0  \n",
      "0               0  \n",
      "1               0  \n",
      "2               0  \n",
      "3               1  \n",
      "4               0  \n",
      "5               0  \n",
      "6               0  \n",
      "7               1  \n",
      "8               0  \n",
      "9               0  \n",
      "10              0  \n",
      "11              1  \n",
      "12              0  \n",
      "13              0  \n",
      "14              0  \n",
      "15              1  \n",
      "16              0  \n",
      "17              0  \n",
      "18              0  \n",
      "19              1  \n",
      "20              0  \n",
      "21              0  \n",
      "22              0  \n",
      "23              1  \n",
      "24              0  \n",
      "25              0  \n",
      "26              0  \n",
      "27              1  \n",
      "28              0  \n",
      "29              0  \n",
      "..            ...  \n",
      "370             0  \n",
      "371             1  \n",
      "372             0  \n",
      "373             0  \n",
      "374             0  \n",
      "375             1  \n",
      "376             0  \n",
      "377             0  \n",
      "378             0  \n",
      "379             1  \n",
      "380             0  \n",
      "381             0  \n",
      "382             0  \n",
      "383             1  \n",
      "384             0  \n",
      "385             0  \n",
      "386             0  \n",
      "387             1  \n",
      "388             0  \n",
      "389             0  \n",
      "390             0  \n",
      "391             1  \n",
      "392             0  \n",
      "393             0  \n",
      "394             0  \n",
      "395             1  \n",
      "396             0  \n",
      "397             0  \n",
      "398             0  \n",
      "399             1  \n",
      "\n",
      "[400 rows x 7 columns]\n"
     ]
    }
   ],
   "source": [
    "# recreate the dummy variables\n",
    "combos.columns = ['gre', 'gpa', 'prestige', 'intercept']\n",
    "dummy_ranks = pd.get_dummies(combos['prestige'], prefix='prestige')\n",
    "dummy_ranks.columns = ['prestige_1.0', 'prestige_2.0', 'prestige_3.0', 'prestige_4.0']\n",
    "# keep only what we need for making predictions\n",
    "\n",
    "cols_to_keep = ['gre', 'gpa', 'prestige', 'intercept']\n",
    "combos = combos[cols_to_keep].join(dummy_ranks.loc[:, 'prestige_2':])\n",
    "print (combos)\n"
   ]
  },
  {
   "cell_type": "markdown",
   "metadata": {},
   "source": [
    "#### 5.2 Make predictions on the enumerated dataset"
   ]
  },
  {
   "cell_type": "code",
   "execution_count": 254,
   "metadata": {},
   "outputs": [
    {
     "name": "stdout",
     "output_type": "stream",
     "text": [
      "First 5:\n",
      "     gre       gpa  prestige  intercept  prestige_2.0  prestige_3.0  \\\n",
      "0  220.0  2.260000       1.0        1.0             0             0   \n",
      "1  220.0  2.260000       2.0        1.0             1             0   \n",
      "2  220.0  2.260000       3.0        1.0             0             1   \n",
      "3  220.0  2.260000       4.0        1.0             0             0   \n",
      "4  220.0  2.453333       1.0        1.0             0             0   \n",
      "\n",
      "   prestige_4.0  admit_pred  \n",
      "0             0    0.164173  \n",
      "1             0    0.090492  \n",
      "2             0    0.048977  \n",
      "3             1    0.039890  \n",
      "4             0    0.185907  \n",
      "Last 5:\n",
      "       gre       gpa  prestige  intercept  prestige_2.0  prestige_3.0  \\\n",
      "395  800.0  3.806667       4.0        1.0             0             0   \n",
      "396  800.0  4.000000       1.0        1.0             0             0   \n",
      "397  800.0  4.000000       2.0        1.0             1             0   \n",
      "398  800.0  4.000000       3.0        1.0             0             1   \n",
      "399  800.0  4.000000       4.0        1.0             0             0   \n",
      "\n",
      "     prestige_4.0  admit_pred  \n",
      "395             1    0.334286  \n",
      "396             0    0.734040  \n",
      "397             0    0.582995  \n",
      "398             0    0.419833  \n",
      "399             1    0.368608  \n",
      "       gre       gpa  prestige  intercept  prestige_2.0  prestige_3.0  \\\n",
      "0    220.0  2.260000       1.0        1.0             0             0   \n",
      "1    220.0  2.260000       2.0        1.0             1             0   \n",
      "2    220.0  2.260000       3.0        1.0             0             1   \n",
      "3    220.0  2.260000       4.0        1.0             0             0   \n",
      "4    220.0  2.453333       1.0        1.0             0             0   \n",
      "5    220.0  2.453333       2.0        1.0             1             0   \n",
      "6    220.0  2.453333       3.0        1.0             0             1   \n",
      "7    220.0  2.453333       4.0        1.0             0             0   \n",
      "8    220.0  2.646667       1.0        1.0             0             0   \n",
      "9    220.0  2.646667       2.0        1.0             1             0   \n",
      "10   220.0  2.646667       3.0        1.0             0             1   \n",
      "11   220.0  2.646667       4.0        1.0             0             0   \n",
      "12   220.0  2.840000       1.0        1.0             0             0   \n",
      "13   220.0  2.840000       2.0        1.0             1             0   \n",
      "14   220.0  2.840000       3.0        1.0             0             1   \n",
      "15   220.0  2.840000       4.0        1.0             0             0   \n",
      "16   220.0  3.033333       1.0        1.0             0             0   \n",
      "17   220.0  3.033333       2.0        1.0             1             0   \n",
      "18   220.0  3.033333       3.0        1.0             0             1   \n",
      "19   220.0  3.033333       4.0        1.0             0             0   \n",
      "20   220.0  3.226667       1.0        1.0             0             0   \n",
      "21   220.0  3.226667       2.0        1.0             1             0   \n",
      "22   220.0  3.226667       3.0        1.0             0             1   \n",
      "23   220.0  3.226667       4.0        1.0             0             0   \n",
      "24   220.0  3.420000       1.0        1.0             0             0   \n",
      "25   220.0  3.420000       2.0        1.0             1             0   \n",
      "26   220.0  3.420000       3.0        1.0             0             1   \n",
      "27   220.0  3.420000       4.0        1.0             0             0   \n",
      "28   220.0  3.613333       1.0        1.0             0             0   \n",
      "29   220.0  3.613333       2.0        1.0             1             0   \n",
      "..     ...       ...       ...        ...           ...           ...   \n",
      "370  800.0  2.646667       3.0        1.0             0             1   \n",
      "371  800.0  2.646667       4.0        1.0             0             0   \n",
      "372  800.0  2.840000       1.0        1.0             0             0   \n",
      "373  800.0  2.840000       2.0        1.0             1             0   \n",
      "374  800.0  2.840000       3.0        1.0             0             1   \n",
      "375  800.0  2.840000       4.0        1.0             0             0   \n",
      "376  800.0  3.033333       1.0        1.0             0             0   \n",
      "377  800.0  3.033333       2.0        1.0             1             0   \n",
      "378  800.0  3.033333       3.0        1.0             0             1   \n",
      "379  800.0  3.033333       4.0        1.0             0             0   \n",
      "380  800.0  3.226667       1.0        1.0             0             0   \n",
      "381  800.0  3.226667       2.0        1.0             1             0   \n",
      "382  800.0  3.226667       3.0        1.0             0             1   \n",
      "383  800.0  3.226667       4.0        1.0             0             0   \n",
      "384  800.0  3.420000       1.0        1.0             0             0   \n",
      "385  800.0  3.420000       2.0        1.0             1             0   \n",
      "386  800.0  3.420000       3.0        1.0             0             1   \n",
      "387  800.0  3.420000       4.0        1.0             0             0   \n",
      "388  800.0  3.613333       1.0        1.0             0             0   \n",
      "389  800.0  3.613333       2.0        1.0             1             0   \n",
      "390  800.0  3.613333       3.0        1.0             0             1   \n",
      "391  800.0  3.613333       4.0        1.0             0             0   \n",
      "392  800.0  3.806667       1.0        1.0             0             0   \n",
      "393  800.0  3.806667       2.0        1.0             1             0   \n",
      "394  800.0  3.806667       3.0        1.0             0             1   \n",
      "395  800.0  3.806667       4.0        1.0             0             0   \n",
      "396  800.0  4.000000       1.0        1.0             0             0   \n",
      "397  800.0  4.000000       2.0        1.0             1             0   \n",
      "398  800.0  4.000000       3.0        1.0             0             1   \n",
      "399  800.0  4.000000       4.0        1.0             0             0   \n",
      "\n",
      "     prestige_4.0  admit_pred  \n",
      "0               0    0.164173  \n",
      "1               0    0.090492  \n",
      "2               0    0.048977  \n",
      "3               1    0.039890  \n",
      "4               0    0.185907  \n",
      "5               0    0.103682  \n",
      "6               0    0.056492  \n",
      "7               1    0.046078  \n",
      "8               0    0.209795  \n",
      "9               0    0.118543  \n",
      "10              0    0.065080  \n",
      "11              1    0.053173  \n",
      "12              0    0.235865  \n",
      "13              0    0.135214  \n",
      "14              0    0.074871  \n",
      "15              1    0.061290  \n",
      "16              0    0.264090  \n",
      "17              0    0.153820  \n",
      "18              0    0.085999  \n",
      "19              1    0.070553  \n",
      "20              0    0.294393  \n",
      "21              0    0.174469  \n",
      "22              0    0.098605  \n",
      "23              1    0.081096  \n",
      "24              0    0.326629  \n",
      "25              0    0.197244  \n",
      "26              0    0.112831  \n",
      "27              1    0.093056  \n",
      "28              0    0.360591  \n",
      "29              0    0.222192  \n",
      "..            ...         ...  \n",
      "370             0    0.201304  \n",
      "371             1    0.168977  \n",
      "372             0    0.527768  \n",
      "373             0    0.361479  \n",
      "374             0    0.226621  \n",
      "375             1    0.191201  \n",
      "376             0    0.565093  \n",
      "377             0    0.396929  \n",
      "378             0    0.254108  \n",
      "379             1    0.215590  \n",
      "380             0    0.601694  \n",
      "381             0    0.433495  \n",
      "382             0    0.283707  \n",
      "383             1    0.242159  \n",
      "384             0    0.637193  \n",
      "385             0    0.470800  \n",
      "386             0    0.315296  \n",
      "387             1    0.270871  \n",
      "388             0    0.671257  \n",
      "389             0    0.508433  \n",
      "390             0    0.348690  \n",
      "391             1    0.301632  \n",
      "392             0    0.703609  \n",
      "393             0    0.545972  \n",
      "394             0    0.383639  \n",
      "395             1    0.334286  \n",
      "396             0    0.734040  \n",
      "397             0    0.582995  \n",
      "398             0    0.419833  \n",
      "399             1    0.368608  \n",
      "\n",
      "[400 rows x 8 columns]\n"
     ]
    }
   ],
   "source": [
    "\n",
    "combos['admit_pred'] = result.predict(combos[train_cols])\n",
    "\n",
    "print(\"First 5:\")\n",
    "print (combos.head())\n",
    "\n",
    "print (\"Last 5:\")\n",
    "print(combos.tail())\n",
    "\n",
    "print(combos)"
   ]
  },
  {
   "cell_type": "markdown",
   "metadata": {},
   "source": [
    "#### 5.3 Interpret findings for the last 4 observations"
   ]
  },
  {
   "cell_type": "markdown",
   "metadata": {},
   "source": [
    "Answer: Assuming students have a 800 GRE score and 4.0 GPA score, the prestige of their undergrad university will affect their probability of being admitted as follows: prestige 1 will have a 73% probability of being admitted, prestige 2 = 58% probability, prestige 3 = 42% probability and prestige 4 = 37% probability of being admitted"
   ]
  },
  {
   "cell_type": "markdown",
   "metadata": {},
   "source": [
    "## Bonus\n",
    "\n",
    "Plot the probability of being admitted into graduate school, stratified by GPA and GRE score."
   ]
  },
  {
   "cell_type": "code",
   "execution_count": 268,
   "metadata": {},
   "outputs": [
    {
     "data": {
      "image/png": "[encoded data removed]",
      "text/plain": [
       "<matplotlib.figure.Figure at 0x11094ec18>"
      ]
     },
     "metadata": {},
     "output_type": "display_data"
    },
    {
     "data": {
      "image/png": "[encoded data removed]",
      "text/plain": [
       "<matplotlib.figure.Figure at 0x1162a8358>"
      ]
     },
     "metadata": {},
     "output_type": "display_data"
    }
   ],
   "source": [
    "def isolate_and_plot(variable):\n",
    "    #isolate gre and prestige\n",
    "    grouped = pd.pivot_table(combos, values=['admit_pred'], index=[variable, 'prestige'], aggfunc=np.mean)\n",
    "\n",
    "    colors = 'rbgyrbgy'\n",
    "    for col in combos.prestige.unique():\n",
    "        plt_data = grouped.loc[grouped.index.get_level_values(1)==col]\n",
    "        plt.plot(plt_data.index.get_level_values(0), plt_data['admit_pred'], color = colors[int(col)])\n",
    "    \n",
    "    pl.xlabel(variable)\n",
    "    pl.ylabel(\"P(admit=1)\")\n",
    "    pl.legend(['1', '2', '3', '4'], loc='upper left', title = 'Prestige')\n",
    "    pl.title(\"Prob(admit=1) isolating \"+ variable + \" and prestige\")\n",
    "    pl.show()\n",
    "    \n",
    "    \n",
    "isolate_and_plot('gre')\n",
    "isolate_and_plot('gpa')\n",
    "    "
   ]
  },
  {
   "cell_type": "code",
   "execution_count": null,
   "metadata": {
    "collapsed": true
   },
   "outputs": [],
   "source": []
  }
 ],
 "metadata": {
  "kernelspec": {
   "display_name": "Python 3",
   "language": "python",
   "name": "python3"
  },
  "language_info": {
   "codemirror_mode": {
    "name": "ipython",
    "version": 3
   },
   "file_extension": ".py",
   "mimetype": "text/x-python",
   "name": "python",
   "nbconvert_exporter": "python",
   "pygments_lexer": "ipython3",
   "version": "3.6.2"
  }
 },
 "nbformat": 4,
 "nbformat_minor": 1
}
